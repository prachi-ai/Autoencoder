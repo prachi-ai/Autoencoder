{
  "nbformat": 4,
  "nbformat_minor": 0,
  "metadata": {
    "colab": {
      "name": "Untitled1.ipynb",
      "provenance": [],
      "collapsed_sections": [],
      "authorship_tag": "ABX9TyOkgswxD1MYrCT6ZMb5SvSc",
      "include_colab_link": true
    },
    "kernelspec": {
      "name": "python3",
      "display_name": "Python 3"
    },
    "accelerator": "GPU"
  },
  "cells": [
    {
      "cell_type": "markdown",
      "metadata": {
        "id": "view-in-github",
        "colab_type": "text"
      },
      "source": [
        "<a href=\"https://colab.research.google.com/github/prachi-ai/Autoencoder/blob/master/Autoencoder.ipynb\" target=\"_parent\"><img src=\"https://colab.research.google.com/assets/colab-badge.svg\" alt=\"Open In Colab\"/></a>"
      ]
    },
    {
      "cell_type": "code",
      "metadata": {
        "id": "Ejx6tA2D3kZM",
        "colab_type": "code",
        "colab": {
          "base_uri": "https://localhost:8080/",
          "height": 80
        },
        "outputId": "f525233d-af96-4287-8dfe-1e8bb4a487d5"
      },
      "source": [
        "import keras"
      ],
      "execution_count": 1,
      "outputs": [
        {
          "output_type": "stream",
          "text": [
            "Using TensorFlow backend.\n"
          ],
          "name": "stderr"
        },
        {
          "output_type": "display_data",
          "data": {
            "text/html": [
              "<p style=\"color: red;\">\n",
              "The default version of TensorFlow in Colab will soon switch to TensorFlow 2.x.<br>\n",
              "We recommend you <a href=\"https://www.tensorflow.org/guide/migrate\" target=\"_blank\">upgrade</a> now \n",
              "or ensure your notebook will continue to use TensorFlow 1.x via the <code>%tensorflow_version 1.x</code> magic:\n",
              "<a href=\"https://colab.research.google.com/notebooks/tensorflow_version.ipynb\" target=\"_blank\">more info</a>.</p>\n"
            ],
            "text/plain": [
              "<IPython.core.display.HTML object>"
            ]
          },
          "metadata": {
            "tags": []
          }
        }
      ]
    },
    {
      "cell_type": "code",
      "metadata": {
        "id": "V0V4iEVO3wea",
        "colab_type": "code",
        "colab": {
          "base_uri": "https://localhost:8080/",
          "height": 139
        },
        "outputId": "4fb5c23a-ed31-451d-9a10-23616934b8ae"
      },
      "source": [
        "from keras.layers import Input, Dense\n",
        "from keras.models import Model\n",
        "\n",
        "# this is the size of our encoded representations\n",
        "encoding_dim = 32  # 32 floats -> compression of factor 24.5, assuming the input is 784 floats\n",
        "\n",
        "# this is our input placeholder\n",
        "input_img = Input(shape=(784,))\n",
        "# \"encoded\" is the encoded representation of the input\n",
        "encoded = Dense(encoding_dim, activation='relu')(input_img)\n",
        "# \"decoded\" is the lossy reconstruction of the input\n",
        "decoded = Dense(784, activation='sigmoid')(encoded)\n",
        "\n",
        "# this model maps an input to its reconstruction\n",
        "autoencoder = Model(input_img, decoded)"
      ],
      "execution_count": 2,
      "outputs": [
        {
          "output_type": "stream",
          "text": [
            "WARNING:tensorflow:From /usr/local/lib/python3.6/dist-packages/keras/backend/tensorflow_backend.py:66: The name tf.get_default_graph is deprecated. Please use tf.compat.v1.get_default_graph instead.\n",
            "\n",
            "WARNING:tensorflow:From /usr/local/lib/python3.6/dist-packages/keras/backend/tensorflow_backend.py:541: The name tf.placeholder is deprecated. Please use tf.compat.v1.placeholder instead.\n",
            "\n",
            "WARNING:tensorflow:From /usr/local/lib/python3.6/dist-packages/keras/backend/tensorflow_backend.py:4432: The name tf.random_uniform is deprecated. Please use tf.random.uniform instead.\n",
            "\n"
          ],
          "name": "stdout"
        }
      ]
    },
    {
      "cell_type": "code",
      "metadata": {
        "id": "dN-pyvnc41dx",
        "colab_type": "code",
        "colab": {}
      },
      "source": [
        "# this model maps an input to its encoded representation\n",
        "encoder = Model(input_img, encoded)"
      ],
      "execution_count": 0,
      "outputs": []
    },
    {
      "cell_type": "code",
      "metadata": {
        "id": "GSJh9zQe5Fkg",
        "colab_type": "code",
        "colab": {}
      },
      "source": [
        "# create a placeholder for an encoded (32-dimensional) input\n",
        "encoded_input = Input(shape=(encoding_dim,))\n",
        "# retrieve the last layer of the autoencoder model\n",
        "decoder_layer = autoencoder.layers[-1]\n",
        "# create the decoder model\n",
        "decoder = Model(encoded_input, decoder_layer(encoded_input))"
      ],
      "execution_count": 0,
      "outputs": []
    },
    {
      "cell_type": "code",
      "metadata": {
        "id": "pmzwRldc5UMO",
        "colab_type": "code",
        "colab": {
          "base_uri": "https://localhost:8080/",
          "height": 156
        },
        "outputId": "1d34f227-0204-4ff2-fd35-779430f6b103"
      },
      "source": [
        "autoencoder.compile(optimizer='adadelta', loss='binary_crossentropy')"
      ],
      "execution_count": 5,
      "outputs": [
        {
          "output_type": "stream",
          "text": [
            "WARNING:tensorflow:From /usr/local/lib/python3.6/dist-packages/keras/optimizers.py:793: The name tf.train.Optimizer is deprecated. Please use tf.compat.v1.train.Optimizer instead.\n",
            "\n",
            "WARNING:tensorflow:From /usr/local/lib/python3.6/dist-packages/keras/backend/tensorflow_backend.py:3657: The name tf.log is deprecated. Please use tf.math.log instead.\n",
            "\n",
            "WARNING:tensorflow:From /tensorflow-1.15.0/python3.6/tensorflow_core/python/ops/nn_impl.py:183: where (from tensorflow.python.ops.array_ops) is deprecated and will be removed in a future version.\n",
            "Instructions for updating:\n",
            "Use tf.where in 2.0, which has the same broadcast rule as np.where\n"
          ],
          "name": "stdout"
        }
      ]
    },
    {
      "cell_type": "code",
      "metadata": {
        "id": "sog4b7DO5ZTU",
        "colab_type": "code",
        "colab": {
          "base_uri": "https://localhost:8080/",
          "height": 51
        },
        "outputId": "419293d8-b17a-471c-ea10-97e5fed940d6"
      },
      "source": [
        "from keras.datasets import mnist\n",
        "import numpy as np\n",
        "(x_train, _), (x_test, _) = mnist.load_data()"
      ],
      "execution_count": 6,
      "outputs": [
        {
          "output_type": "stream",
          "text": [
            "Downloading data from https://s3.amazonaws.com/img-datasets/mnist.npz\n",
            "11493376/11490434 [==============================] - 3s 0us/step\n"
          ],
          "name": "stdout"
        }
      ]
    },
    {
      "cell_type": "code",
      "metadata": {
        "id": "kuSx9x3F5hVK",
        "colab_type": "code",
        "colab": {
          "base_uri": "https://localhost:8080/",
          "height": 51
        },
        "outputId": "15d705f4-e611-49a9-a8b6-7e72f40d568a"
      },
      "source": [
        "x_train = x_train.astype('float32') / 255.\n",
        "x_test = x_test.astype('float32') / 255.\n",
        "x_train = x_train.reshape((len(x_train), np.prod(x_train.shape[1:])))\n",
        "x_test = x_test.reshape((len(x_test), np.prod(x_test.shape[1:])))\n",
        "print(x_train.shape)\n",
        "print(x_test.shape)"
      ],
      "execution_count": 8,
      "outputs": [
        {
          "output_type": "stream",
          "text": [
            "(60000, 784)\n",
            "(10000, 784)\n"
          ],
          "name": "stdout"
        }
      ]
    },
    {
      "cell_type": "code",
      "metadata": {
        "id": "konj5Jmk6jze",
        "colab_type": "code",
        "colab": {
          "base_uri": "https://localhost:8080/",
          "height": 1000
        },
        "outputId": "b5179dd3-5251-42ca-fdfa-9c2dff5c6995"
      },
      "source": [
        "autoencoder.fit(x_train, x_train,\n",
        "                epochs=50,\n",
        "                batch_size=256,\n",
        "                shuffle=True,\n",
        "                validation_data=(x_test, x_test))"
      ],
      "execution_count": 10,
      "outputs": [
        {
          "output_type": "stream",
          "text": [
            "WARNING:tensorflow:From /usr/local/lib/python3.6/dist-packages/keras/backend/tensorflow_backend.py:1033: The name tf.assign_add is deprecated. Please use tf.compat.v1.assign_add instead.\n",
            "\n",
            "WARNING:tensorflow:From /usr/local/lib/python3.6/dist-packages/keras/backend/tensorflow_backend.py:1020: The name tf.assign is deprecated. Please use tf.compat.v1.assign instead.\n",
            "\n",
            "WARNING:tensorflow:From /usr/local/lib/python3.6/dist-packages/keras/backend/tensorflow_backend.py:3005: The name tf.Session is deprecated. Please use tf.compat.v1.Session instead.\n",
            "\n",
            "Train on 60000 samples, validate on 10000 samples\n",
            "Epoch 1/50\n",
            "WARNING:tensorflow:From /usr/local/lib/python3.6/dist-packages/keras/backend/tensorflow_backend.py:190: The name tf.get_default_session is deprecated. Please use tf.compat.v1.get_default_session instead.\n",
            "\n",
            "WARNING:tensorflow:From /usr/local/lib/python3.6/dist-packages/keras/backend/tensorflow_backend.py:197: The name tf.ConfigProto is deprecated. Please use tf.compat.v1.ConfigProto instead.\n",
            "\n",
            "WARNING:tensorflow:From /usr/local/lib/python3.6/dist-packages/keras/backend/tensorflow_backend.py:207: The name tf.global_variables is deprecated. Please use tf.compat.v1.global_variables instead.\n",
            "\n",
            "WARNING:tensorflow:From /usr/local/lib/python3.6/dist-packages/keras/backend/tensorflow_backend.py:216: The name tf.is_variable_initialized is deprecated. Please use tf.compat.v1.is_variable_initialized instead.\n",
            "\n",
            "WARNING:tensorflow:From /usr/local/lib/python3.6/dist-packages/keras/backend/tensorflow_backend.py:223: The name tf.variables_initializer is deprecated. Please use tf.compat.v1.variables_initializer instead.\n",
            "\n",
            "60000/60000 [==============================] - 9s 147us/step - loss: 0.3615 - val_loss: 0.2716\n",
            "Epoch 2/50\n",
            "60000/60000 [==============================] - 1s 23us/step - loss: 0.2648 - val_loss: 0.2545\n",
            "Epoch 3/50\n",
            "60000/60000 [==============================] - 1s 23us/step - loss: 0.2432 - val_loss: 0.2297\n",
            "Epoch 4/50\n",
            "60000/60000 [==============================] - 1s 23us/step - loss: 0.2219 - val_loss: 0.2117\n",
            "Epoch 5/50\n",
            "60000/60000 [==============================] - 1s 23us/step - loss: 0.2067 - val_loss: 0.1991\n",
            "Epoch 6/50\n",
            "60000/60000 [==============================] - 1s 23us/step - loss: 0.1960 - val_loss: 0.1900\n",
            "Epoch 7/50\n",
            "60000/60000 [==============================] - 1s 23us/step - loss: 0.1879 - val_loss: 0.1827\n",
            "Epoch 8/50\n",
            "60000/60000 [==============================] - 1s 23us/step - loss: 0.1809 - val_loss: 0.1762\n",
            "Epoch 9/50\n",
            "60000/60000 [==============================] - 1s 22us/step - loss: 0.1747 - val_loss: 0.1704\n",
            "Epoch 10/50\n",
            "60000/60000 [==============================] - 1s 23us/step - loss: 0.1693 - val_loss: 0.1653\n",
            "Epoch 11/50\n",
            "60000/60000 [==============================] - 1s 23us/step - loss: 0.1644 - val_loss: 0.1607\n",
            "Epoch 12/50\n",
            "60000/60000 [==============================] - 1s 23us/step - loss: 0.1600 - val_loss: 0.1566\n",
            "Epoch 13/50\n",
            "60000/60000 [==============================] - 1s 23us/step - loss: 0.1560 - val_loss: 0.1528\n",
            "Epoch 14/50\n",
            "60000/60000 [==============================] - 1s 22us/step - loss: 0.1524 - val_loss: 0.1493\n",
            "Epoch 15/50\n",
            "60000/60000 [==============================] - 1s 23us/step - loss: 0.1491 - val_loss: 0.1461\n",
            "Epoch 16/50\n",
            "60000/60000 [==============================] - 1s 23us/step - loss: 0.1460 - val_loss: 0.1432\n",
            "Epoch 17/50\n",
            "60000/60000 [==============================] - 1s 23us/step - loss: 0.1432 - val_loss: 0.1405\n",
            "Epoch 18/50\n",
            "60000/60000 [==============================] - 1s 23us/step - loss: 0.1405 - val_loss: 0.1378\n",
            "Epoch 19/50\n",
            "60000/60000 [==============================] - 1s 23us/step - loss: 0.1379 - val_loss: 0.1353\n",
            "Epoch 20/50\n",
            "60000/60000 [==============================] - 1s 23us/step - loss: 0.1355 - val_loss: 0.1329\n",
            "Epoch 21/50\n",
            "60000/60000 [==============================] - 1s 23us/step - loss: 0.1332 - val_loss: 0.1306\n",
            "Epoch 22/50\n",
            "60000/60000 [==============================] - 1s 23us/step - loss: 0.1310 - val_loss: 0.1285\n",
            "Epoch 23/50\n",
            "60000/60000 [==============================] - 1s 22us/step - loss: 0.1289 - val_loss: 0.1264\n",
            "Epoch 24/50\n",
            "60000/60000 [==============================] - 1s 23us/step - loss: 0.1269 - val_loss: 0.1244\n",
            "Epoch 25/50\n",
            "60000/60000 [==============================] - 1s 23us/step - loss: 0.1250 - val_loss: 0.1226\n",
            "Epoch 26/50\n",
            "60000/60000 [==============================] - 1s 23us/step - loss: 0.1231 - val_loss: 0.1207\n",
            "Epoch 27/50\n",
            "60000/60000 [==============================] - 1s 23us/step - loss: 0.1214 - val_loss: 0.1190\n",
            "Epoch 28/50\n",
            "60000/60000 [==============================] - 1s 22us/step - loss: 0.1197 - val_loss: 0.1175\n",
            "Epoch 29/50\n",
            "60000/60000 [==============================] - 1s 23us/step - loss: 0.1182 - val_loss: 0.1160\n",
            "Epoch 30/50\n",
            "60000/60000 [==============================] - 1s 23us/step - loss: 0.1168 - val_loss: 0.1145\n",
            "Epoch 31/50\n",
            "60000/60000 [==============================] - 1s 23us/step - loss: 0.1154 - val_loss: 0.1132\n",
            "Epoch 32/50\n",
            "60000/60000 [==============================] - 1s 23us/step - loss: 0.1142 - val_loss: 0.1120\n",
            "Epoch 33/50\n",
            "60000/60000 [==============================] - 1s 23us/step - loss: 0.1130 - val_loss: 0.1109\n",
            "Epoch 34/50\n",
            "60000/60000 [==============================] - 1s 23us/step - loss: 0.1119 - val_loss: 0.1098\n",
            "Epoch 35/50\n",
            "60000/60000 [==============================] - 1s 22us/step - loss: 0.1109 - val_loss: 0.1089\n",
            "Epoch 36/50\n",
            "60000/60000 [==============================] - 1s 22us/step - loss: 0.1100 - val_loss: 0.1080\n",
            "Epoch 37/50\n",
            "60000/60000 [==============================] - 1s 23us/step - loss: 0.1092 - val_loss: 0.1071\n",
            "Epoch 38/50\n",
            "60000/60000 [==============================] - 1s 22us/step - loss: 0.1084 - val_loss: 0.1064\n",
            "Epoch 39/50\n",
            "60000/60000 [==============================] - 1s 24us/step - loss: 0.1076 - val_loss: 0.1056\n",
            "Epoch 40/50\n",
            "60000/60000 [==============================] - 1s 23us/step - loss: 0.1069 - val_loss: 0.1050\n",
            "Epoch 41/50\n",
            "60000/60000 [==============================] - 1s 22us/step - loss: 0.1063 - val_loss: 0.1044\n",
            "Epoch 42/50\n",
            "60000/60000 [==============================] - 1s 23us/step - loss: 0.1057 - val_loss: 0.1038\n",
            "Epoch 43/50\n",
            "60000/60000 [==============================] - 1s 23us/step - loss: 0.1051 - val_loss: 0.1032\n",
            "Epoch 44/50\n",
            "60000/60000 [==============================] - 1s 23us/step - loss: 0.1046 - val_loss: 0.1027\n",
            "Epoch 45/50\n",
            "60000/60000 [==============================] - 1s 23us/step - loss: 0.1041 - val_loss: 0.1022\n",
            "Epoch 46/50\n",
            "60000/60000 [==============================] - 1s 23us/step - loss: 0.1036 - val_loss: 0.1018\n",
            "Epoch 47/50\n",
            "60000/60000 [==============================] - 1s 23us/step - loss: 0.1032 - val_loss: 0.1014\n",
            "Epoch 48/50\n",
            "60000/60000 [==============================] - 1s 22us/step - loss: 0.1028 - val_loss: 0.1010\n",
            "Epoch 49/50\n",
            "60000/60000 [==============================] - 1s 23us/step - loss: 0.1024 - val_loss: 0.1006\n",
            "Epoch 50/50\n",
            "60000/60000 [==============================] - 1s 22us/step - loss: 0.1020 - val_loss: 0.1003\n"
          ],
          "name": "stdout"
        },
        {
          "output_type": "execute_result",
          "data": {
            "text/plain": [
              "<keras.callbacks.History at 0x7f8faeba3630>"
            ]
          },
          "metadata": {
            "tags": []
          },
          "execution_count": 10
        }
      ]
    },
    {
      "cell_type": "markdown",
      "metadata": {
        "id": "O6TK2-qX6jEH",
        "colab_type": "text"
      },
      "source": [
        ""
      ]
    },
    {
      "cell_type": "code",
      "metadata": {
        "id": "lhL-KH017T0g",
        "colab_type": "code",
        "colab": {}
      },
      "source": [
        "# encode and decode some digits\n",
        "# note that we take them from the *test* set\n",
        "encoded_imgs = encoder.predict(x_test)\n",
        "decoded_imgs = decoder.predict(encoded_imgs)"
      ],
      "execution_count": 0,
      "outputs": []
    },
    {
      "cell_type": "code",
      "metadata": {
        "id": "qf9dGHPI7Tw9",
        "colab_type": "code",
        "colab": {
          "base_uri": "https://localhost:8080/",
          "height": 248
        },
        "outputId": "65fe2937-acb4-4718-85bd-bf9c054b6298"
      },
      "source": [
        "# use Matplotlib \n",
        "import matplotlib.pyplot as plt\n",
        "\n",
        "n = 10  # how many digits we will display\n",
        "plt.figure(figsize=(20, 4))\n",
        "for i in range(n):\n",
        "    # display original\n",
        "    ax = plt.subplot(2, n, i + 1)\n",
        "    plt.imshow(x_test[i].reshape(28, 28))\n",
        "    plt.gray()\n",
        "    ax.get_xaxis().set_visible(False)\n",
        "    ax.get_yaxis().set_visible(False)\n",
        "\n",
        "    # display reconstruction\n",
        "    ax = plt.subplot(2, n, i + 1 + n)\n",
        "    plt.imshow(decoded_imgs[i].reshape(28, 28))\n",
        "    plt.gray()\n",
        "    ax.get_xaxis().set_visible(False)\n",
        "    ax.get_yaxis().set_visible(False)\n",
        "plt.show()"
      ],
      "execution_count": 12,
      "outputs": [
        {
          "output_type": "display_data",
          "data": {
            "image/png": "[encoded data removed]",
            "text/plain": [
              "<Figure size 1440x288 with 20 Axes>"
            ]
          },
          "metadata": {
            "tags": []
          }
        }
      ]
    },
    {
      "cell_type": "code",
      "metadata": {
        "id": "C9uZ6JQA7TnX",
        "colab_type": "code",
        "colab": {}
      },
      "source": [
        "from keras import regularizers\n",
        "\n",
        "encoding_dim = 32\n",
        "\n",
        "input_img = Input(shape=(784,))\n",
        "# add a Dense layer with a L1 activity regularizer\n",
        "encoded = Dense(encoding_dim, activation='relu',\n",
        "                activity_regularizer=regularizers.l1(10e-5))(input_img)\n",
        "decoded = Dense(784, activation='sigmoid')(encoded)\n",
        "\n",
        "autoencoder = Model(input_img, decoded)"
      ],
      "execution_count": 0,
      "outputs": []
    },
    {
      "cell_type": "code",
      "metadata": {
        "id": "TP21mFey-iva",
        "colab_type": "code",
        "colab": {
          "base_uri": "https://localhost:8080/",
          "height": 1000
        },
        "outputId": "360811bb-c1fc-4400-dfe5-917823ad4242"
      },
      "source": [
        "autoencoder.compile(optimizer='adadelta', loss='binary_crossentropy')\n",
        "autoencoder.fit(x_train, x_train,\n",
        "                epochs=50,\n",
        "                batch_size=256,\n",
        "                shuffle=True,\n",
        "                validation_data=(x_test, x_test))"
      ],
      "execution_count": 16,
      "outputs": [
        {
          "output_type": "stream",
          "text": [
            "Train on 60000 samples, validate on 10000 samples\n",
            "Epoch 1/50\n",
            "60000/60000 [==============================] - 2s 27us/step - loss: 0.6736 - val_loss: 0.6484\n",
            "Epoch 2/50\n",
            "60000/60000 [==============================] - 1s 24us/step - loss: 0.6284 - val_loss: 0.6090\n",
            "Epoch 3/50\n",
            "60000/60000 [==============================] - 1s 23us/step - loss: 0.5916 - val_loss: 0.5749\n",
            "Epoch 4/50\n",
            "60000/60000 [==============================] - 1s 23us/step - loss: 0.5598 - val_loss: 0.5454\n",
            "Epoch 5/50\n",
            "60000/60000 [==============================] - 1s 22us/step - loss: 0.5323 - val_loss: 0.5198\n",
            "Epoch 6/50\n",
            "60000/60000 [==============================] - 1s 23us/step - loss: 0.5084 - val_loss: 0.4975\n",
            "Epoch 7/50\n",
            "60000/60000 [==============================] - 1s 24us/step - loss: 0.4875 - val_loss: 0.4780\n",
            "Epoch 8/50\n",
            "60000/60000 [==============================] - 1s 23us/step - loss: 0.4692 - val_loss: 0.4609\n",
            "Epoch 9/50\n",
            "60000/60000 [==============================] - 1s 23us/step - loss: 0.4531 - val_loss: 0.4457\n",
            "Epoch 10/50\n",
            "60000/60000 [==============================] - 1s 23us/step - loss: 0.4389 - val_loss: 0.4324\n",
            "Epoch 11/50\n",
            "60000/60000 [==============================] - 1s 23us/step - loss: 0.4262 - val_loss: 0.4205\n",
            "Epoch 12/50\n",
            "60000/60000 [==============================] - 1s 22us/step - loss: 0.4150 - val_loss: 0.4098\n",
            "Epoch 13/50\n",
            "60000/60000 [==============================] - 1s 22us/step - loss: 0.4049 - val_loss: 0.4003\n",
            "Epoch 14/50\n",
            "60000/60000 [==============================] - 1s 23us/step - loss: 0.3959 - val_loss: 0.3918\n",
            "Epoch 15/50\n",
            "60000/60000 [==============================] - 1s 23us/step - loss: 0.3877 - val_loss: 0.3840\n",
            "Epoch 16/50\n",
            "60000/60000 [==============================] - 1s 23us/step - loss: 0.3804 - val_loss: 0.3771\n",
            "Epoch 17/50\n",
            "60000/60000 [==============================] - 1s 22us/step - loss: 0.3737 - val_loss: 0.3707\n",
            "Epoch 18/50\n",
            "60000/60000 [==============================] - 1s 22us/step - loss: 0.3676 - val_loss: 0.3649\n",
            "Epoch 19/50\n",
            "60000/60000 [==============================] - 1s 23us/step - loss: 0.3621 - val_loss: 0.3596\n",
            "Epoch 20/50\n",
            "60000/60000 [==============================] - 1s 22us/step - loss: 0.3570 - val_loss: 0.3548\n",
            "Epoch 21/50\n",
            "60000/60000 [==============================] - 1s 23us/step - loss: 0.3524 - val_loss: 0.3503\n",
            "Epoch 22/50\n",
            "60000/60000 [==============================] - 1s 23us/step - loss: 0.3481 - val_loss: 0.3463\n",
            "Epoch 23/50\n",
            "60000/60000 [==============================] - 1s 23us/step - loss: 0.3442 - val_loss: 0.3425\n",
            "Epoch 24/50\n",
            "60000/60000 [==============================] - 1s 23us/step - loss: 0.3406 - val_loss: 0.3390\n",
            "Epoch 25/50\n",
            "60000/60000 [==============================] - 1s 23us/step - loss: 0.3372 - val_loss: 0.3357\n",
            "Epoch 26/50\n",
            "60000/60000 [==============================] - 1s 22us/step - loss: 0.3341 - val_loss: 0.3327\n",
            "Epoch 27/50\n",
            "60000/60000 [==============================] - 1s 23us/step - loss: 0.3312 - val_loss: 0.3299\n",
            "Epoch 28/50\n",
            "60000/60000 [==============================] - 1s 22us/step - loss: 0.3285 - val_loss: 0.3273\n",
            "Epoch 29/50\n",
            "60000/60000 [==============================] - 1s 23us/step - loss: 0.3259 - val_loss: 0.3249\n",
            "Epoch 30/50\n",
            "60000/60000 [==============================] - 1s 23us/step - loss: 0.3236 - val_loss: 0.3226\n",
            "Epoch 31/50\n",
            "60000/60000 [==============================] - 1s 23us/step - loss: 0.3213 - val_loss: 0.3204\n",
            "Epoch 32/50\n",
            "60000/60000 [==============================] - 1s 23us/step - loss: 0.3193 - val_loss: 0.3184\n",
            "Epoch 33/50\n",
            "60000/60000 [==============================] - 1s 24us/step - loss: 0.3173 - val_loss: 0.3165\n",
            "Epoch 34/50\n",
            "60000/60000 [==============================] - 1s 23us/step - loss: 0.3155 - val_loss: 0.3147\n",
            "Epoch 35/50\n",
            "60000/60000 [==============================] - 1s 24us/step - loss: 0.3138 - val_loss: 0.3131\n",
            "Epoch 36/50\n",
            "60000/60000 [==============================] - 1s 23us/step - loss: 0.3121 - val_loss: 0.3115\n",
            "Epoch 37/50\n",
            "60000/60000 [==============================] - 1s 24us/step - loss: 0.3106 - val_loss: 0.3100\n",
            "Epoch 38/50\n",
            "60000/60000 [==============================] - 1s 23us/step - loss: 0.3091 - val_loss: 0.3085\n",
            "Epoch 39/50\n",
            "60000/60000 [==============================] - 1s 23us/step - loss: 0.3077 - val_loss: 0.3072\n",
            "Epoch 40/50\n",
            "60000/60000 [==============================] - 1s 23us/step - loss: 0.3064 - val_loss: 0.3059\n",
            "Epoch 41/50\n",
            "60000/60000 [==============================] - 1s 22us/step - loss: 0.3052 - val_loss: 0.3047\n",
            "Epoch 42/50\n",
            "60000/60000 [==============================] - 1s 23us/step - loss: 0.3040 - val_loss: 0.3035\n",
            "Epoch 43/50\n",
            "60000/60000 [==============================] - 1s 22us/step - loss: 0.3029 - val_loss: 0.3024\n",
            "Epoch 44/50\n",
            "60000/60000 [==============================] - 1s 23us/step - loss: 0.3018 - val_loss: 0.3014\n",
            "Epoch 45/50\n",
            "60000/60000 [==============================] - 1s 23us/step - loss: 0.3008 - val_loss: 0.3004\n",
            "Epoch 46/50\n",
            "60000/60000 [==============================] - 1s 23us/step - loss: 0.2998 - val_loss: 0.2994\n",
            "Epoch 47/50\n",
            "60000/60000 [==============================] - 1s 23us/step - loss: 0.2989 - val_loss: 0.2985\n",
            "Epoch 48/50\n",
            "60000/60000 [==============================] - 1s 23us/step - loss: 0.2980 - val_loss: 0.2976\n",
            "Epoch 49/50\n",
            "60000/60000 [==============================] - 1s 23us/step - loss: 0.2971 - val_loss: 0.2968\n",
            "Epoch 50/50\n",
            "60000/60000 [==============================] - 1s 23us/step - loss: 0.2963 - val_loss: 0.2960\n"
          ],
          "name": "stdout"
        },
        {
          "output_type": "execute_result",
          "data": {
            "text/plain": [
              "<keras.callbacks.History at 0x7f8fa016a748>"
            ]
          },
          "metadata": {
            "tags": []
          },
          "execution_count": 16
        }
      ]
    },
    {
      "cell_type": "code",
      "metadata": {
        "id": "WOCMzNeF_UOe",
        "colab_type": "code",
        "colab": {}
      },
      "source": [
        "# encode and decode some digits\n",
        "# note that we take them from the *test* set\n",
        "encoded_imgs = encoder.predict(x_test)\n",
        "decoded_imgs = decoder.predict(encoded_imgs)"
      ],
      "execution_count": 0,
      "outputs": []
    },
    {
      "cell_type": "code",
      "metadata": {
        "id": "Csf8sGW8Aoxl",
        "colab_type": "code",
        "colab": {
          "base_uri": "https://localhost:8080/",
          "height": 248
        },
        "outputId": "8364ceb0-dc5e-4f0c-f39e-b7403361e734"
      },
      "source": [
        "# use Matplotlib \n",
        "import matplotlib.pyplot as plt\n",
        "\n",
        "n = 10  # how many digits we will display\n",
        "plt.figure(figsize=(20, 4))\n",
        "for i in range(n):\n",
        "    # display original\n",
        "    ax = plt.subplot(2, n, i + 1)\n",
        "    plt.imshow(x_test[i].reshape(28, 28))\n",
        "    plt.gray()\n",
        "    ax.get_xaxis().set_visible(False)\n",
        "    ax.get_yaxis().set_visible(False)\n",
        "\n",
        "    # display reconstruction\n",
        "    ax = plt.subplot(2, n, i + 1 + n)\n",
        "    plt.imshow(decoded_imgs[i].reshape(28, 28))\n",
        "    plt.gray()\n",
        "    ax.get_xaxis().set_visible(False)\n",
        "    ax.get_yaxis().set_visible(False)\n",
        "plt.show()"
      ],
      "execution_count": 18,
      "outputs": [
        {
          "output_type": "display_data",
          "data": {
            "image/png": "[encoded data removed]",
            "text/plain": [
              "<Figure size 1440x288 with 20 Axes>"
            ]
          },
          "metadata": {
            "tags": []
          }
        }
      ]
    },
    {
      "cell_type": "code",
      "metadata": {
        "id": "1ZKjBRHOAsEH",
        "colab_type": "code",
        "colab": {}
      },
      "source": [
        ""
      ],
      "execution_count": 0,
      "outputs": []
    }
  ]
}